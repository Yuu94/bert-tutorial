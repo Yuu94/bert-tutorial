{
 "cells": [
  {
   "cell_type": "markdown",
   "metadata": {
    "colab_type": "text",
    "id": "a4e0x0VlZqJQ"
   },
   "source": [
    "# 概要\n",
    "ここでは、GoogleColaboratoryのGPUとGoogleDriveを使用して、BERTのチュートリアルを動かします。  \n",
    "BERTのチュートリアルをでは、`MRPC`という文章の等価性を評価するタスクを解いていますので、ここでもこれを解いていきます。  \n",
    "  \n",
    "GoogleDriveに学習済みモデルがデータセットを保存するため、`500MB`の空きが必要です。"
   ]
  },
  {
   "cell_type": "markdown",
   "metadata": {
    "colab_type": "text",
    "id": "T2hO-GkIVdYJ"
   },
   "source": [
    "## 全体の流れ\n",
    "\n",
    "1. Colaboratory notebookの設定\n",
    "1. GoogleDriveをマウント\n",
    "1. データセット/BERT学習済みモデルをGoogleDriveへ保存\n",
    "1. BERTのリポジトリをClone\n",
    "1. trainデータを使用した、学習済みモデルのfine-tuning\n",
    "1. testデータを使用した、データ予測\n",
    "1. 予測結果(出力)の確認"
   ]
  },
  {
   "cell_type": "markdown",
   "metadata": {
    "colab_type": "text",
    "id": "W-1jrQgKVnji"
   },
   "source": [
    "### 1.Colaboratory notebookの設定\n",
    "当notebookをGPUで実行できるように設定を行います。  \n",
    "Qiitaの記事を参考にすることをおすすめします。  \n",
    "1. 上の`ランタイム` -> `ランタイムのタイプを変更`を押す\n",
    "1. `ノートブックの設定`にて、`ハードウェアのアクセラレータ`を`GPU`に変更\n",
    "1. 右上の`接続`を押し、`RAM/ディスク`になるまで待つ"
   ]
  },
  {
   "cell_type": "markdown",
   "metadata": {
    "colab_type": "text",
    "id": "rnfMqHdGWgeI"
   },
   "source": [
    "### 2.GoogleDriveをマウント"
   ]
  },
  {
   "cell_type": "code",
   "execution_count": null,
   "metadata": {
    "colab": {},
    "colab_type": "code",
    "id": "PbkKA48CDplL"
   },
   "outputs": [],
   "source": [
    "from google.colab import drive \n",
    "\n",
    "\n",
    "drive.mount('/content/drive')"
   ]
  },
  {
   "cell_type": "code",
   "execution_count": null,
   "metadata": {
    "colab": {},
    "colab_type": "code",
    "id": "qgLoD_eSwdYK"
   },
   "outputs": [],
   "source": [
    "# 作業ディレクトリをDrive上に作成\n",
    "!mkdir drive/'My Drive'/bert"
   ]
  },
  {
   "cell_type": "code",
   "execution_count": null,
   "metadata": {
    "colab": {},
    "colab_type": "code",
    "id": "AaSnbWXSFGW4"
   },
   "outputs": [],
   "source": [
    "# 作業ディレクトリへ移動\n",
    "cd drive/'My Drive'/bert"
   ]
  },
  {
   "cell_type": "markdown",
   "metadata": {
    "colab_type": "text",
    "id": "EprpXJYAW5VI"
   },
   "source": [
    "### 3.データセット/BERT学習済みモデルをGoogleDriveへ保存"
   ]
  },
  {
   "cell_type": "markdown",
   "metadata": {
    "colab_type": "text",
    "id": "oxtuKyx_W-BB"
   },
   "source": [
    "#### データセットの保存\n",
    "GLUEデータセットのMRPCタスクのみ保存を行います。"
   ]
  },
  {
   "cell_type": "code",
   "execution_count": null,
   "metadata": {
    "colab": {},
    "colab_type": "code",
    "id": "FiAGyIHcuh_G"
   },
   "outputs": [],
   "source": [
    "# DLスクリプトの取得\n",
    "!git clone https://gist.github.com/60c2bdb54d156a41194446737ce03e2e.git"
   ]
  },
  {
   "cell_type": "code",
   "execution_count": null,
   "metadata": {
    "colab": {},
    "colab_type": "code",
    "id": "uYuJcetW6bgb"
   },
   "outputs": [],
   "source": [
    "!python 60c2bdb54d156a41194446737ce03e2e/download_glue_data.py \\\n",
    "--data_dir glue_data --tasks MRPC"
   ]
  },
  {
   "cell_type": "markdown",
   "metadata": {
    "colab_type": "text",
    "id": "7vodbIpFXVZC"
   },
   "source": [
    "#### BERT学習済みモデルの保存\n",
    "公式が公開している`BERT-Base, Uncasedモデル`を保存します。"
   ]
  },
  {
   "cell_type": "code",
   "execution_count": null,
   "metadata": {
    "colab": {},
    "colab_type": "code",
    "id": "_iO6G4sE7oZc"
   },
   "outputs": [],
   "source": [
    "!wget https://storage.googleapis.com/bert_models/2018_10_18/uncased_L-12_H-768_A-12.zip && \\\n",
    "unzip uncased_L-12_H-768_A-12.zip && \\\n",
    "rm uncased_L-12_H-768_A-12.zip"
   ]
  },
  {
   "cell_type": "markdown",
   "metadata": {},
   "source": [
    "### TensorFlowのバージョン変更"
   ]
  },
  {
   "cell_type": "code",
   "execution_count": null,
   "metadata": {},
   "outputs": [],
   "source": [
    "%tensorflow_version 1.x"
   ]
  },
  {
   "cell_type": "markdown",
   "metadata": {
    "colab_type": "text",
    "id": "935WpHHhXneg"
   },
   "source": [
    "### BERTのリポジトリをClone\n",
    "BERTリポジトリ内の`run_classifier.py`を実行してタスクを解くため、リポジトリをCloneします。"
   ]
  },
  {
   "cell_type": "code",
   "execution_count": null,
   "metadata": {
    "colab": {},
    "colab_type": "code",
    "id": "xKTN_7BjJDHH"
   },
   "outputs": [],
   "source": [
    "!git clone https://github.com/google-research/bert.git"
   ]
  },
  {
   "cell_type": "markdown",
   "metadata": {
    "colab_type": "text",
    "id": "LazercpmX3Ki"
   },
   "source": [
    "## trainデータを使用した、学習済みモデルのfine-tuning\n",
    "glue_data/MRPC/train.tsvを使用し、学習済みモデルのfine-tuningを行います。"
   ]
  },
  {
   "cell_type": "markdown",
   "metadata": {
    "colab_type": "text",
    "id": "x1FwGgSgYivp"
   },
   "source": [
    "##### パラメーターの説明\n",
    "- task_name: 解くタスクを指定\n",
    " - MRPC: 2つのニュース記事の等価性を判定\n",
    " - CoLa: 文章が文法的に正しいか判定\n",
    " - MNLI: テキスト同士の関連性を判定\n",
    " - XNLI: 翻訳系のタスク(?)\n",
    "- do_train: 学習するか否か\n",
    "- do_eval: 評価結果を表示するか否か\n",
    "- data_dir: データセット(MRPC)のディレクトリPath\n",
    "- vocab_file: 学習済みモデルのvocab.txtのPath\n",
    "- bert_config_file: 学習済みモデルのbert_config.jsonのPath\n",
    "- init_checkpoint: 学習済みモデルのbert_model.ckpt.***のPath\n",
    "- max_seq_length: 最長トークンの長さ\n",
    "- train_batch_size: 学習Batchサイズ\n",
    "- learning_rate: 学習率\n",
    "- num_train_epochs: エポック数\n",
    "- output_dir: 結果出力先"
   ]
  },
  {
   "cell_type": "code",
   "execution_count": null,
   "metadata": {
    "colab": {},
    "colab_type": "code",
    "id": "piwfO-2DIhzn"
   },
   "outputs": [],
   "source": [
    "!python bert/run_classifier.py \\\n",
    "  --task_name=MRPC \\\n",
    "  --do_train=true \\\n",
    "  --do_eval=true \\\n",
    "  --data_dir=glue_data/MRPC \\\n",
    "  --vocab_file=uncased_L-12_H-768_A-12/vocab.txt \\\n",
    "  --bert_config_file=uncased_L-12_H-768_A-12/bert_config.json \\\n",
    "  --init_checkpoint=uncased_L-12_H-768_A-12/bert_model.ckpt \\\n",
    "  --max_seq_length=128 \\\n",
    "  --train_batch_size=32 \\\n",
    "  --learning_rate=2e-5 \\\n",
    "  --num_train_epochs=3.0 \\\n",
    "  --output_dir=tmp/mrpc_output/"
   ]
  },
  {
   "cell_type": "markdown",
   "metadata": {
    "colab_type": "text",
    "id": "c6k6f4XlYBJS"
   },
   "source": [
    "完了すると以下の出力がされます。\n",
    "\n",
    "```\n",
    "INFO:tensorflow:***** Eval results *****\n",
    "I0105 10:34:39.428679 140299170789248 run_classifier.py:923] ***** Eval results *****\n",
    "INFO:tensorflow:  eval_accuracy = 0.85294116\n",
    "I0105 10:34:39.428822 140299170789248 run_classifier.py:925]   eval_accuracy = 0.85294116\n",
    "INFO:tensorflow:  eval_loss = 0.4425803\n",
    "I0105 10:34:40.041571 140299170789248 run_classifier.py:925]   eval_loss = 0.4425803\n",
    "INFO:tensorflow:  global_step = 343\n",
    "I0105 10:34:40.041978 140299170789248 run_classifier.py:925]   global_step = 343\n",
    "INFO:tensorflow:  loss = 0.4425803\n",
    "I0105 10:34:40.042183 140299170789248 run_classifier.py:925]   loss = 0.4425803\n",
    "```"
   ]
  },
  {
   "cell_type": "markdown",
   "metadata": {
    "colab_type": "text",
    "id": "TFEO_NQlYwMW"
   },
   "source": [
    "### testデータを使用した、データ予測\n",
    "test.tsvを使用して、予測を行います。"
   ]
  },
  {
   "cell_type": "markdown",
   "metadata": {
    "colab_type": "text",
    "id": "T1px4tkbY5qx"
   },
   "source": [
    "##### パラメーターの説明\n",
    "- do_predict: 予測を行うか否か\n",
    "- init_checkpoint: fine-tuning後のbert_model.ckpt.***のPath\n",
    "- output_dir: 予測結果の出力先"
   ]
  },
  {
   "cell_type": "code",
   "execution_count": null,
   "metadata": {
    "colab": {},
    "colab_type": "code",
    "id": "NjC30AFXmR2u"
   },
   "outputs": [],
   "source": [
    "!python bert/run_classifier.py \\\n",
    "  --task_name=MRPC \\\n",
    "  --do_predict=true \\\n",
    "  --data_dir=glue_data/MRPC \\\n",
    "  --vocab_file=uncased_L-12_H-768_A-12/vocab.txt \\\n",
    "  --bert_config_file=uncased_L-12_H-768_A-12/bert_config.json \\\n",
    "  --init_checkpoint=tmp/mrpc_output \\\n",
    "  --max_seq_length=128 \\\n",
    "  --output_dir=tmp/mrpc_output_result/"
   ]
  },
  {
   "cell_type": "markdown",
   "metadata": {
    "colab_type": "text",
    "id": "71DnNE-eZG1K"
   },
   "source": [
    "### 予測結果(出力)の確認\n",
    "GoogleDriveの`bert/tmp/mrpc_output_result/`に、`test_results.tsv`が出力されています。"
   ]
  },
  {
   "cell_type": "markdown",
   "metadata": {
    "colab_type": "text",
    "id": "4wvGeQYpZQB2"
   },
   "source": [
    "以上"
   ]
  }
 ],
 "metadata": {
  "accelerator": "GPU",
  "colab": {
   "collapsed_sections": [],
   "name": "bert_tutorial.ipynb",
   "provenance": []
  },
  "kernelspec": {
   "display_name": "Python 3",
   "language": "python",
   "name": "python3"
  },
  "language_info": {
   "codemirror_mode": {
    "name": "ipython",
    "version": 3
   },
   "file_extension": ".py",
   "mimetype": "text/x-python",
   "name": "python",
   "nbconvert_exporter": "python",
   "pygments_lexer": "ipython3",
   "version": "3.8.1"
  }
 },
 "nbformat": 4,
 "nbformat_minor": 4
}
