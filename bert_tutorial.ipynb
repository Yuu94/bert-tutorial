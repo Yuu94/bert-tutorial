{
  "nbformat": 4,
  "nbformat_minor": 0,
  "metadata": {
    "colab": {
      "name": "bert_tutorial.ipynb",
      "provenance": [],
      "collapsed_sections": []
    },
    "kernelspec": {
      "name": "python3",
      "display_name": "Python 3"
    },
    "accelerator": "GPU"
  },
  "cells": [
    {
      "cell_type": "markdown",
      "metadata": {
        "id": "a4e0x0VlZqJQ",
        "colab_type": "text"
      },
      "source": [
        "# 概要\n",
        "ここでは、GoogleColaboratoryのGPUとGoogleDriveを使用して、BERTのチュートリアルを動かします。  \n",
        "BERTのチュートリアルをでは、`MRPC`という文章の等価性を評価するタスクを解いていますので、ここでもこれを解いていきます。  \n",
        "  \n",
        "GoogleDriveに学習済みモデルがデータセットを保存するため、`500MB`の空きが必要です。"
      ]
    },
    {
      "cell_type": "markdown",
      "metadata": {
        "id": "T2hO-GkIVdYJ",
        "colab_type": "text"
      },
      "source": [
        "## 全体の流れ\n",
        "\n",
        "1. Colaboratory notebookの設定\n",
        "1. GoogleDriveをマウント\n",
        "1. データセット/BERT学習済みモデルをGoogleDriveへ保存\n",
        "1. BERTのリポジトリをClone\n",
        "1. trainデータを使用した、学習済みモデルのfine-tuning\n",
        "1. testデータを使用した、データ予測\n",
        "1. 予測結果(出力)の確認"
      ]
    },
    {
      "cell_type": "markdown",
      "metadata": {
        "id": "W-1jrQgKVnji",
        "colab_type": "text"
      },
      "source": [
        "### 1.Colaboratory notebookの設定\n",
        "当notebookをGPUで実行できるように設定を行います。  \n",
        "Qiitaの記事を参考にすることをおすすめします。  \n",
        "1. 上の`ランタイム` -> `ランタイムのタイプを変更`を押す\n",
        "1. `ノートブックの設定`にて、`ハードウェアのアクセラレータ`を`GPU`に変更\n",
        "1. 右上の`接続`を押し、`RAM/ディスク`になるまで待つ"
      ]
    },
    {
      "cell_type": "markdown",
      "metadata": {
        "id": "rnfMqHdGWgeI",
        "colab_type": "text"
      },
      "source": [
        "### 2.GoogleDriveをマウント"
      ]
    },
    {
      "cell_type": "code",
      "metadata": {
        "id": "PbkKA48CDplL",
        "colab_type": "code",
        "colab": {}
      },
      "source": [
        "from google.colab import drive \n",
        "\n",
        "\n",
        "drive.mount('/content/drive')"
      ],
      "execution_count": 0,
      "outputs": []
    },
    {
      "cell_type": "code",
      "metadata": {
        "id": "qgLoD_eSwdYK",
        "colab_type": "code",
        "colab": {}
      },
      "source": [
        "# 作業ディレクトリをDrive上に作成\n",
        "!mkdir drive/'My Drive'/bert"
      ],
      "execution_count": 0,
      "outputs": []
    },
    {
      "cell_type": "code",
      "metadata": {
        "id": "AaSnbWXSFGW4",
        "colab_type": "code",
        "colab": {}
      },
      "source": [
        "# 作業ディレクトリへ移動\n",
        "cd drive/'My Drive'/bert"
      ],
      "execution_count": 0,
      "outputs": []
    },
    {
      "cell_type": "markdown",
      "metadata": {
        "id": "EprpXJYAW5VI",
        "colab_type": "text"
      },
      "source": [
        "### 3.データセット/BERT学習済みモデルをGoogleDriveへ保存"
      ]
    },
    {
      "cell_type": "markdown",
      "metadata": {
        "id": "oxtuKyx_W-BB",
        "colab_type": "text"
      },
      "source": [
        "#### データセットの保存\n",
        "GLUEデータセットのMRPCタスクのみ保存を行います。"
      ]
    },
    {
      "cell_type": "code",
      "metadata": {
        "id": "FiAGyIHcuh_G",
        "colab_type": "code",
        "colab": {}
      },
      "source": [
        "# DLスクリプトの取得\n",
        "!git clone https://gist.github.com/60c2bdb54d156a41194446737ce03e2e.git"
      ],
      "execution_count": 0,
      "outputs": []
    },
    {
      "cell_type": "code",
      "metadata": {
        "id": "uYuJcetW6bgb",
        "colab_type": "code",
        "colab": {}
      },
      "source": [
        "!python 60c2bdb54d156a41194446737ce03e2e/download_glue_data.py \\\n",
        "--data_dir glue_data --tasks MRPC"
      ],
      "execution_count": 0,
      "outputs": []
    },
    {
      "cell_type": "markdown",
      "metadata": {
        "id": "7vodbIpFXVZC",
        "colab_type": "text"
      },
      "source": [
        "#### BERT学習済みモデルの保存\n",
        "公式が公開している`BERT-Base, Uncasedモデル`を保存します。"
      ]
    },
    {
      "cell_type": "code",
      "metadata": {
        "id": "_iO6G4sE7oZc",
        "colab_type": "code",
        "colab": {}
      },
      "source": [
        "!wget https://storage.googleapis.com/bert_models/2018_10_18/uncased_L-12_H-768_A-12.zip && \\\n",
        "unzip uncased_L-12_H-768_A-12.zip && \\\n",
        "rm uncased_L-12_H-768_A-12.zip"
      ],
      "execution_count": 0,
      "outputs": []
    },
    {
      "cell_type": "markdown",
      "metadata": {
        "id": "935WpHHhXneg",
        "colab_type": "text"
      },
      "source": [
        "### BERTのリポジトリをClone\n",
        "BERTリポジトリ内の`run_classifier.py`を実行してタスクを解くため、リポジトリをCloneします。"
      ]
    },
    {
      "cell_type": "code",
      "metadata": {
        "id": "xKTN_7BjJDHH",
        "colab_type": "code",
        "colab": {}
      },
      "source": [
        "!git clone https://github.com/google-research/bert.git"
      ],
      "execution_count": 0,
      "outputs": []
    },
    {
      "cell_type": "markdown",
      "metadata": {
        "id": "LazercpmX3Ki",
        "colab_type": "text"
      },
      "source": [
        "## trainデータを使用した、学習済みモデルのfine-tuning\n",
        "glue_data/MRPC/train.tsvを使用し、学習済みモデルのfine-tuningを行います。"
      ]
    },
    {
      "cell_type": "markdown",
      "metadata": {
        "id": "x1FwGgSgYivp",
        "colab_type": "text"
      },
      "source": [
        "##### パラメーターの説明\n",
        "- task_name: 解くタスクを指定\n",
        " - MRPC: 2つのニュース記事の等価性を判定\n",
        " - CoLa: 文章が文法的に正しいか判定\n",
        " - MNLI: テキスト同士の関連性を判定\n",
        " - XNLI: 翻訳系のタスク(?)\n",
        "- do_train: 学習するか否か\n",
        "- do_eval: 評価結果を表示するか否か\n",
        "- data_dir: データセット(MRPC)のディレクトリPath\n",
        "- vocab_file: 学習済みモデルのvocab.txtのPath\n",
        "- bert_config_file: 学習済みモデルのbert_config.jsonのPath\n",
        "- init_checkpoint: 学習済みモデルのbert_model.ckpt.***のPath\n",
        "- max_seq_length: 最長トークンの長さ\n",
        "- train_batch_size: 学習Batchサイズ\n",
        "- learning_rate: 学習率\n",
        "- num_train_epochs: エポック数\n",
        "- output_dir: 結果出力先"
      ]
    },
    {
      "cell_type": "code",
      "metadata": {
        "id": "piwfO-2DIhzn",
        "colab_type": "code",
        "colab": {}
      },
      "source": [
        "!python bert/run_classifier.py \\\n",
        "  --task_name=MRPC \\\n",
        "  --do_train=true \\\n",
        "  --do_eval=true \\\n",
        "  --data_dir=glue_data/MRPC \\\n",
        "  --vocab_file=uncased_L-12_H-768_A-12/vocab.txt \\\n",
        "  --bert_config_file=uncased_L-12_H-768_A-12/bert_config.json \\\n",
        "  --init_checkpoint=uncased_L-12_H-768_A-12/bert_model.ckpt \\\n",
        "  --max_seq_length=128 \\\n",
        "  --train_batch_size=32 \\\n",
        "  --learning_rate=2e-5 \\\n",
        "  --num_train_epochs=3.0 \\\n",
        "  --output_dir=tmp/mrpc_output/"
      ],
      "execution_count": 0,
      "outputs": []
    },
    {
      "cell_type": "markdown",
      "metadata": {
        "id": "c6k6f4XlYBJS",
        "colab_type": "text"
      },
      "source": [
        "完了すると以下の出力がされます。\n",
        "\n",
        "```\n",
        "INFO:tensorflow:***** Eval results *****\n",
        "I0105 10:34:39.428679 140299170789248 run_classifier.py:923] ***** Eval results *****\n",
        "INFO:tensorflow:  eval_accuracy = 0.85294116\n",
        "I0105 10:34:39.428822 140299170789248 run_classifier.py:925]   eval_accuracy = 0.85294116\n",
        "INFO:tensorflow:  eval_loss = 0.4425803\n",
        "I0105 10:34:40.041571 140299170789248 run_classifier.py:925]   eval_loss = 0.4425803\n",
        "INFO:tensorflow:  global_step = 343\n",
        "I0105 10:34:40.041978 140299170789248 run_classifier.py:925]   global_step = 343\n",
        "INFO:tensorflow:  loss = 0.4425803\n",
        "I0105 10:34:40.042183 140299170789248 run_classifier.py:925]   loss = 0.4425803\n",
        "```"
      ]
    },
    {
      "cell_type": "markdown",
      "metadata": {
        "id": "TFEO_NQlYwMW",
        "colab_type": "text"
      },
      "source": [
        "### testデータを使用した、データ予測\n",
        "test.tsvを使用して、予測を行います。"
      ]
    },
    {
      "cell_type": "markdown",
      "metadata": {
        "id": "T1px4tkbY5qx",
        "colab_type": "text"
      },
      "source": [
        "##### パラメーターの説明\n",
        "- do_predict: 予測を行うか否か\n",
        "- init_checkpoint: fine-tuning後のbert_model.ckpt.***のPath\n",
        "- output_dir: 予測結果の出力先"
      ]
    },
    {
      "cell_type": "code",
      "metadata": {
        "id": "NjC30AFXmR2u",
        "colab_type": "code",
        "colab": {}
      },
      "source": [
        "!python bert/run_classifier.py \\\n",
        "  --task_name=MRPC \\\n",
        "  --do_predict=true \\\n",
        "  --data_dir=glue_data/MRPC \\\n",
        "  --vocab_file=uncased_L-12_H-768_A-12/vocab.txt \\\n",
        "  --bert_config_file=uncased_L-12_H-768_A-12/bert_config.json \\\n",
        "  --init_checkpoint=tmp/mrpc_output \\\n",
        "  --max_seq_length=128 \\\n",
        "  --output_dir=tmp/mrpc_output_result/"
      ],
      "execution_count": 0,
      "outputs": []
    },
    {
      "cell_type": "markdown",
      "metadata": {
        "id": "71DnNE-eZG1K",
        "colab_type": "text"
      },
      "source": [
        "### 予測結果(出力)の確認\n",
        "GoogleDriveの`bert/tmp/mrpc_output_result/`に、`test_results.tsv`が出力されています。"
      ]
    },
    {
      "cell_type": "markdown",
      "metadata": {
        "id": "4wvGeQYpZQB2",
        "colab_type": "text"
      },
      "source": [
        "以上"
      ]
    }
  ]
}